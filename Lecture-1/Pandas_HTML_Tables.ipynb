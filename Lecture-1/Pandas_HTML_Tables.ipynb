{
 "cells": [
  {
   "cell_type": "code",
   "execution_count": null,
   "id": "ed57c764-b11f-46ee-97c9-f183af995dcb",
   "metadata": {},
   "outputs": [],
   "source": [
    "import pandas as pd\n",
    "\n",
    "url = 'https://en.wikipedia.org/wiki/List_of_best-selling_video_games'\n",
    "\n",
    "tables = pd.read_html(url)\n",
    "\n",
    "len(tables)"
   ]
  },
  {
   "cell_type": "code",
   "execution_count": null,
   "id": "e60714d5-aee5-4be0-a601-0442b44640a5",
   "metadata": {},
   "outputs": [],
   "source": [
    "# manually  checking the tables to find the one of interest\n",
    "\n",
    "tables[0]"
   ]
  },
  {
   "cell_type": "code",
   "execution_count": null,
   "id": "e5daedd6-6433-4a40-97a5-55b19e1e8246",
   "metadata": {},
   "outputs": [],
   "source": [
    "# manually  checking the tables to find the one of interest\n",
    "\n",
    "tables[1]"
   ]
  },
  {
   "cell_type": "code",
   "execution_count": null,
   "id": "37a47638-0d50-42b5-a3b0-ef43ebbcb328",
   "metadata": {},
   "outputs": [],
   "source": [
    "tables[2]"
   ]
  },
  {
   "cell_type": "code",
   "execution_count": null,
   "id": "5b8780c1-3490-4395-95e7-152af91c0107",
   "metadata": {},
   "outputs": [],
   "source": [
    "tables[3]"
   ]
  },
  {
   "cell_type": "code",
   "execution_count": null,
   "id": "c531e2a0-99ae-4981-8af2-193770b6ffeb",
   "metadata": {},
   "outputs": [],
   "source": [
    "# Define the correct table as our df of interest\n",
    "\n",
    "df = tables[1]\n",
    "df.head()"
   ]
  },
  {
   "cell_type": "code",
   "execution_count": null,
   "id": "1613f2dc-92fb-4922-a99a-b2f9935a9707",
   "metadata": {},
   "outputs": [],
   "source": [
    "# How many games are included in the table?\n",
    "len(df)"
   ]
  },
  {
   "cell_type": "code",
   "execution_count": null,
   "id": "f74c12a0-011a-4ab2-be7b-b8ded07c690b",
   "metadata": {},
   "outputs": [],
   "source": [
    "# Which publisher has the most games in the table?\n",
    "\n",
    "df['Publisher(s)[b]'].value_counts()"
   ]
  },
  {
   "cell_type": "markdown",
   "id": "bf60ebeb-3c5f-42b6-88ca-72558ba1b9a6",
   "metadata": {},
   "source": [
    "50 games included and Nintendo was the most common publisher"
   ]
  },
  {
   "cell_type": "markdown",
   "id": "dac44401-87ac-4026-943e-25217436c993",
   "metadata": {},
   "source": [
    "# Break out rooms"
   ]
  },
  {
   "cell_type": "markdown",
   "id": "dd5eb3d2-c6b0-4b85-9c51-7b31f65bbfe8",
   "metadata": {},
   "source": [
    "url = 'https://worldpopulationreview.com/state-rankings/average-temperatures-by-state'"
   ]
  },
  {
   "cell_type": "code",
   "execution_count": null,
   "id": "edd3abfa-6987-4d34-8267-e395e72c73de",
   "metadata": {},
   "outputs": [],
   "source": []
  }
 ],
 "metadata": {
  "kernelspec": {
   "display_name": "Python 3 (ipykernel)",
   "language": "python",
   "name": "python3"
  },
  "language_info": {
   "codemirror_mode": {
    "name": "ipython",
    "version": 3
   },
   "file_extension": ".py",
   "mimetype": "text/x-python",
   "name": "python",
   "nbconvert_exporter": "python",
   "pygments_lexer": "ipython3",
   "version": "3.10.10"
  },
  "widgets": {
   "application/vnd.jupyter.widget-state+json": {
    "state": {},
    "version_major": 2,
    "version_minor": 0
   }
  }
 },
 "nbformat": 4,
 "nbformat_minor": 5
}
